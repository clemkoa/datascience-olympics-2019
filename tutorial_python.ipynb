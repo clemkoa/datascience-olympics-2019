{
 "cells": [
  {
   "cell_type": "code",
   "execution_count": 1,
   "metadata": {},
   "outputs": [
    {
     "name": "stderr",
     "output_type": "stream",
     "text": [
      "/usr/local/lib/python3.7/site-packages/lightgbm/__init__.py:46: UserWarning: Starting from version 2.2.1, the library file in distribution wheels for macOS is built by the Apple Clang (Xcode_8.3.3) compiler.\n",
      "This means that in case of installing LightGBM from PyPI via the ``pip install lightgbm`` command, you don't need to install the gcc compiler anymore.\n",
      "Instead of that, you need to install the OpenMP library, which is required for running LightGBM on the system with the Apple Clang compiler.\n",
      "You can install the OpenMP library by the following command: ``brew install libomp``.\n",
      "  \"You can install the OpenMP library by the following command: ``brew install libomp``.\", UserWarning)\n"
     ]
    }
   ],
   "source": [
    "%matplotlib inline\n",
    "\n",
    "import numpy as np\n",
    "import pandas as pd\n",
    "\n",
    "from sklearn.linear_model import LogisticRegression\n",
    "from sklearn.svm import SVC\n",
    "\n",
    "from sklearn.metrics import log_loss\n",
    "from sklearn.model_selection import train_test_split\n",
    "import lightgbm as lgb\n",
    "from sklearn.preprocessing import OrdinalEncoder, OneHotEncoder\n",
    "from sklearn.ensemble import RandomForestClassifier, RandomForestRegressor\n",
    "from sklearn.tree import DecisionTreeClassifier"
   ]
  },
  {
   "cell_type": "code",
   "execution_count": 2,
   "metadata": {},
   "outputs": [],
   "source": [
    "# Define the competition scorer\n",
    "def competition_scorer(y_true, y_pred):\n",
    "    return log_loss(y_true, y_pred, sample_weight=10**y_true)"
   ]
  },
  {
   "cell_type": "markdown",
   "metadata": {},
   "source": [
    "# 1- Information about the challenge\n",
    "\n",
    "In this challenge, the `requests` dataset contains information about the requests made by group of individuals (or family) to the french emergency housing public service. A sample of the `requests` dataset corresponds to a unique request.\n",
    "\n",
    "The goal is to predict the categorical variable `granted_number_of_nights` which represents the number of nights of emergency housing granted to a group. You can train your model on the `train_requests`, the predictions should be made for requests listed in the `test_requests` dataset.\n",
    "\n",
    "The evaluation metric is given by the `competition_scorer` defined above. It corresponds to a weighted log-loss with weights 1, 10, 100, or 1000 if the `granted_number_of_nights` takes the value 0, 1, 2, or 3 respectively. Thus beware that you will be penalized harder for classification mistakes made on the higher labels.\n",
    "\n",
    "Good luck!"
   ]
  },
  {
   "cell_type": "markdown",
   "metadata": {},
   "source": [
    "# 2- Load the datasets"
   ]
  },
  {
   "cell_type": "code",
   "execution_count": 3,
   "metadata": {},
   "outputs": [
    {
     "name": "stderr",
     "output_type": "stream",
     "text": [
      "b'Skipping line 31303: expected 24 fields, saw 49\\nSkipping line 75954: expected 24 fields, saw 49\\n'\n"
     ]
    }
   ],
   "source": [
    "# Train sample\n",
    "requests_train = pd.read_csv('data/train_requests.csv', sep=',', low_memory=False, error_bad_lines=False)\n",
    "\n",
    "# Test sample\n",
    "requests_test = pd.read_csv('data/test_requests.csv', sep=',', low_memory=False, error_bad_lines=False)"
   ]
  },
  {
   "cell_type": "code",
   "execution_count": 4,
   "metadata": {},
   "outputs": [
    {
     "name": "stdout",
     "output_type": "stream",
     "text": [
      "<class 'pandas.core.frame.DataFrame'>\n",
      "RangeIndex: 297739 entries, 0 to 297738\n",
      "Data columns (total 24 columns):\n",
      "request_id                       297739 non-null object\n",
      "animal_presence                  297739 non-null object\n",
      "answer_creation_date             297739 non-null object\n",
      "child_situation                  297739 non-null int64\n",
      "child_to_come                    115453 non-null object\n",
      "district                         297739 non-null int64\n",
      "granted_number_of_nights         297739 non-null int64\n",
      "group_composition_id             297739 non-null int64\n",
      "group_composition_label          297738 non-null object\n",
      "group_creation_date              297738 non-null object\n",
      "group_id                         297739 non-null object\n",
      "group_main_requester_id          297739 non-null object\n",
      "group_type                       297738 non-null object\n",
      "housing_situation_id             297739 non-null int64\n",
      "housing_situation_label          276802 non-null object\n",
      "long_term_housing_request        90926 non-null object\n",
      "number_of_underage               297739 non-null int64\n",
      "request_backoffice_creator_id    297739 non-null object\n",
      "request_creation_date            297739 non-null object\n",
      "requester_type                   297739 non-null object\n",
      "social_situation_id              297739 non-null object\n",
      "town                             98051 non-null object\n",
      "victim_of_violence               297738 non-null object\n",
      "victim_of_violence_type          4984 non-null object\n",
      "dtypes: int64(6), object(18)\n",
      "memory usage: 54.5+ MB\n",
      "None\n",
      "<class 'pandas.core.frame.DataFrame'>\n",
      "RangeIndex: 74189 entries, 0 to 74188\n",
      "Data columns (total 23 columns):\n",
      "request_id                       74189 non-null object\n",
      "animal_presence                  74189 non-null object\n",
      "answer_creation_date             74189 non-null object\n",
      "child_situation                  74189 non-null int64\n",
      "child_to_come                    28604 non-null object\n",
      "district                         74189 non-null int64\n",
      "group_composition_id             74189 non-null int64\n",
      "group_composition_label          74189 non-null object\n",
      "group_creation_date              74189 non-null object\n",
      "group_id                         74189 non-null object\n",
      "group_main_requester_id          74189 non-null object\n",
      "group_type                       74189 non-null object\n",
      "housing_situation_id             74189 non-null int64\n",
      "housing_situation_label          68945 non-null object\n",
      "long_term_housing_request        22655 non-null object\n",
      "number_of_underage               74189 non-null int64\n",
      "request_backoffice_creator_id    74189 non-null object\n",
      "request_creation_date            74189 non-null object\n",
      "requester_type                   74189 non-null object\n",
      "social_situation_id              74189 non-null object\n",
      "town                             24360 non-null object\n",
      "victim_of_violence               74189 non-null object\n",
      "victim_of_violence_type          1244 non-null object\n",
      "dtypes: int64(5), object(18)\n",
      "memory usage: 13.0+ MB\n",
      "None\n"
     ]
    }
   ],
   "source": [
    "# Inspect basic metadata about the dataset\n",
    "print(requests_train.info())\n",
    "print(requests_test.info())"
   ]
  },
  {
   "cell_type": "markdown",
   "metadata": {},
   "source": [
    "# 3- Distribution of the target"
   ]
  },
  {
   "cell_type": "code",
   "execution_count": 5,
   "metadata": {},
   "outputs": [
    {
     "data": {
      "image/png": "[encoded data removed]",
      "text/plain": [
       "<Figure size 432x288 with 1 Axes>"
      ]
     },
     "metadata": {
      "needs_background": "light"
     },
     "output_type": "display_data"
    }
   ],
   "source": [
    "# histogram of the target variable\n",
    "requests_train['granted_number_of_nights'].plot.hist()\n",
    "None\n",
    "#print(requests.head())"
   ]
  },
  {
   "cell_type": "markdown",
   "metadata": {},
   "source": [
    "# 4-Train and evaluate a first model"
   ]
  },
  {
   "cell_type": "code",
   "execution_count": 6,
   "metadata": {},
   "outputs": [],
   "source": [
    "# selected columns for explanatory variable\n",
    "columns = ['animal_presence', 'answer_creation_date', 'child_situation',\n",
    "           'child_to_come', 'district',\n",
    "           'group_composition_label', 'group_creation_date',\n",
    "           'group_type','housing_situation_id',\n",
    "           'long_term_housing_request', 'number_of_underage',\n",
    "           'request_creation_date',\n",
    "           'requester_type', 'town',\n",
    "           'victim_of_violence', 'victim_of_violence_type']\n",
    "\n",
    "X = requests_train[columns]\n",
    "y = requests_train['granted_number_of_nights']\n",
    "X_length = len(X)\n",
    "X_test = requests_test[columns]\n",
    "\n",
    "all_dataset = pd.concat([X, X_test], sort=False)\n",
    "#print(all_dataset.iloc[:X_length].tail())"
   ]
  },
  {
   "cell_type": "code",
   "execution_count": 7,
   "metadata": {},
   "outputs": [],
   "source": [
    "def pre_process(X):\n",
    "    X = X.fillna('12123')\n",
    "    return X"
   ]
  },
  {
   "cell_type": "code",
   "execution_count": 8,
   "metadata": {},
   "outputs": [
    {
     "name": "stdout",
     "output_type": "stream",
     "text": [
      "(371928, 6)\n",
      "(371928, 30)\n",
      "(371928, 6)\n",
      "(371928, 30)\n",
      "(371928, 2)\n"
     ]
    }
   ],
   "source": [
    "oenc = OrdinalEncoder()\n",
    "#oenc = OneHotEncoder(sparse=True)\n",
    "benc = OneHotEncoder(sparse=False)\n",
    "\n",
    "category_col = ['district', 'group_type', 'housing_situation_id', 'long_term_housing_request',\n",
    "         'requester_type', 'town']\n",
    "bool_cols = ['animal_presence', 'child_to_come', 'animal_presence', 'group_composition_label', 'victim_of_violence', 'victim_of_violence_type']\n",
    "other_cols = ['child_situation', 'number_of_underage']\n",
    "\n",
    "all_dataset = pre_process(all_dataset)\n",
    "cat = all_dataset[category_col]\n",
    "boo = all_dataset[bool_cols]\n",
    "other = all_dataset[other_cols]\n",
    "\n",
    "oenc.fit(cat)\n",
    "benc.fit(boo)\n",
    "print(oenc.transform(cat).shape)\n",
    "cat = oenc.transform(cat)\n",
    "\n",
    "print(benc.transform(boo).shape)\n",
    "boo = benc.transform(boo)\n",
    "other = other.values\n",
    "\n",
    "print(cat.shape)\n",
    "print(boo.shape)\n",
    "print(other.shape)\n",
    "data = np.concatenate((boo, cat, other), axis=1)\n",
    "all_dataset = data"
   ]
  },
  {
   "cell_type": "code",
   "execution_count": 9,
   "metadata": {},
   "outputs": [
    {
     "name": "stdout",
     "output_type": "stream",
     "text": [
      "(297739, 38)\n"
     ]
    }
   ],
   "source": [
    "print(all_dataset[:X_length].shape)\n",
    "#print(y)"
   ]
  },
  {
   "cell_type": "code",
   "execution_count": 10,
   "metadata": {},
   "outputs": [
    {
     "data": {
      "text/plain": [
       "array([[ 1.,  0.,  1., ...,  0., -1., -1.],\n",
       "       [ 1.,  0.,  1., ...,  0., -1., -1.],\n",
       "       [ 1.,  0.,  1., ...,  0., -1., -1.],\n",
       "       ...,\n",
       "       [ 1.,  0.,  1., ...,  0., -1., -1.],\n",
       "       [ 1.,  0.,  1., ...,  0., -1., -1.],\n",
       "       [ 1.,  0.,  0., ...,  0., -1.,  1.]])"
      ]
     },
     "execution_count": 10,
     "metadata": {},
     "output_type": "execute_result"
    }
   ],
   "source": [
    "data"
   ]
  },
  {
   "cell_type": "code",
   "execution_count": 11,
   "metadata": {},
   "outputs": [],
   "source": [
    "# split between the train and the validation samples\n",
    "X = all_dataset[:X_length]\n",
    "X_train, X_val, y_train, y_val = train_test_split(X, y, test_size=0.2)"
   ]
  },
  {
   "cell_type": "code",
   "execution_count": 27,
   "metadata": {},
   "outputs": [
    {
     "name": "stdout",
     "output_type": "stream",
     "text": [
      "RandomForestClassifier(bootstrap=True,\n",
      "                       class_weight={0: 1, 1: 10, 2: 100, 3: 1000},\n",
      "                       criterion='gini', max_depth=10, max_features=20,\n",
      "                       max_leaf_nodes=None, min_impurity_decrease=0.0,\n",
      "                       min_impurity_split=None, min_samples_leaf=1,\n",
      "                       min_samples_split=15, min_weight_fraction_leaf=0.0,\n",
      "                       n_estimators=10, n_jobs=None, oob_score=False,\n",
      "                       random_state=42, verbose=0, warm_start=False)\n"
     ]
    }
   ],
   "source": [
    "model = RandomForestClassifier(n_estimators=10, min_samples_split=15, max_depth=10, max_features=20, class_weight={0: 1, 1: 10, 2: 100, 3: 1000}, random_state=42)\n",
    "#model = LogisticRegression(C=1.0, solver='newton-cg', penalty='none', multi_class='multinomial',max_iter=200, class_weight={0: 1, 1: 10, 2: 100, 3: 1000}, verbose=10)\n",
    "print(model)\n",
    "#model = DecisionTreeClassifier(class_weight={0: 1, 1: 10, 2: 100, 3: 1000})"
   ]
  },
  {
   "cell_type": "code",
   "execution_count": 30,
   "metadata": {},
   "outputs": [
    {
     "data": {
      "text/plain": [
       "RandomForestClassifier(bootstrap=True,\n",
       "                       class_weight={0: 1, 1: 10, 2: 100, 3: 1000},\n",
       "                       criterion='gini', max_depth=10, max_features=20,\n",
       "                       max_leaf_nodes=None, min_impurity_decrease=0.0,\n",
       "                       min_impurity_split=None, min_samples_leaf=1,\n",
       "                       min_samples_split=15, min_weight_fraction_leaf=0.0,\n",
       "                       n_estimators=10, n_jobs=None, oob_score=False,\n",
       "                       random_state=42, verbose=0, warm_start=False)"
      ]
     },
     "execution_count": 30,
     "metadata": {},
     "output_type": "execute_result"
    }
   ],
   "source": [
    "# fit the model\n",
    "#model.fit(X_train, y_train)\n",
    "model.fit(X, y)"
   ]
  },
  {
   "cell_type": "code",
   "execution_count": 31,
   "metadata": {},
   "outputs": [
    {
     "name": "stdout",
     "output_type": "stream",
     "text": [
      "0.6292249905187488\n"
     ]
    }
   ],
   "source": [
    "# evaluate the model with the competition scorer (validation set)\n",
    "print(competition_scorer(y_val, model.predict_proba(X_val)))"
   ]
  },
  {
   "cell_type": "code",
   "execution_count": 32,
   "metadata": {},
   "outputs": [
    {
     "data": {
      "text/plain": [
       "array([0, 1, 2, 3])"
      ]
     },
     "execution_count": 32,
     "metadata": {},
     "output_type": "execute_result"
    }
   ],
   "source": [
    "model.classes_"
   ]
  },
  {
   "cell_type": "markdown",
   "metadata": {},
   "source": [
    "# 5- Compute predictions on the test set "
   ]
  },
  {
   "cell_type": "code",
   "execution_count": 33,
   "metadata": {},
   "outputs": [],
   "source": [
    "# use the model to predict on the test set\n",
    "X_test = all_dataset[X_length:]\n",
    "y_pred = model.predict_proba(X_test)"
   ]
  },
  {
   "cell_type": "code",
   "execution_count": 34,
   "metadata": {},
   "outputs": [
    {
     "data": {
      "text/plain": [
       "array([[0.00565893, 0.19956362, 0.53062778, 0.26414967],\n",
       "       [0.04831256, 0.15340572, 0.62797262, 0.17030909],\n",
       "       [0.00386934, 0.13440999, 0.69957158, 0.16214909],\n",
       "       [0.05251389, 0.05843035, 0.33935932, 0.54969644]])"
      ]
     },
     "execution_count": 34,
     "metadata": {},
     "output_type": "execute_result"
    }
   ],
   "source": [
    "# overview of prediction probabilities for first four rows\n",
    "y_pred[:4]"
   ]
  },
  {
   "cell_type": "code",
   "execution_count": 35,
   "metadata": {},
   "outputs": [],
   "source": [
    "predictions = pd.concat([requests_test['request_id'], pd.DataFrame(y_pred)], axis=1)"
   ]
  },
  {
   "cell_type": "markdown",
   "metadata": {},
   "source": [
    "# 6- Submit your predictions to the QScore platform"
   ]
  },
  {
   "cell_type": "code",
   "execution_count": 36,
   "metadata": {},
   "outputs": [],
   "source": [
    "import io, math, requests\n",
    "\n",
    "# Get your token from qscore:\n",
    "# 1. Go to https://qscore.datascience-olympics.com/\n",
    "# 2. Chose the competition Data Science Olympics 2019\n",
    "# 3. In the left menu click 'Submissions'\n",
    "# 4. Your token is in the 'Submit from your Python Notebook' tab\n",
    "\n",
    "def submit_prediction(df, sep=',', comment='', compression='gzip', **kwargs):\n",
    "    TOKEN='ddb80cdfd01cc72a553168352c66b2232c943d0e6c91241187cc0e007fe29777a4c8af8d0c1e3689e768ca0029d7e055afeb4ff55f9d8cd5128729cc9829cc5d'\n",
    "    URL='https://qscore.datascience-olympics.com/api/submissions'\n",
    "    df.to_csv('temporary.dat', sep=sep, compression=compression, **kwargs)\n",
    "    r = requests.post(URL, headers={'Authorization': 'Bearer {}'.format(TOKEN)},files={'datafile': open('temporary.dat', 'rb')},data={'comment':comment, 'compression': compression})\n",
    "    if r.status_code == 429:\n",
    "        raise Exception('Submissions are too close. Next submission is only allowed in {} seconds.'.format(int(math.ceil(int(r.headers['x-rate-limit-remaining']) / 1000.0))))\n",
    "    if r.status_code != 200:\n",
    "        raise Exception(r.text)"
   ]
  },
  {
   "cell_type": "code",
   "execution_count": 38,
   "metadata": {},
   "outputs": [],
   "source": [
    "submit_prediction(predictions, sep=',', index=False, comment='my submission')"
   ]
  },
  {
   "cell_type": "code",
   "execution_count": null,
   "metadata": {},
   "outputs": [],
   "source": []
  }
 ],
 "metadata": {
  "kernelspec": {
   "display_name": "Python 3",
   "language": "python",
   "name": "python3"
  },
  "language_info": {
   "codemirror_mode": {
    "name": "ipython",
    "version": 3
   },
   "file_extension": ".py",
   "mimetype": "text/x-python",
   "name": "python",
   "nbconvert_exporter": "python",
   "pygments_lexer": "ipython3",
   "version": "3.7.3"
  }
 },
 "nbformat": 4,
 "nbformat_minor": 2
}
